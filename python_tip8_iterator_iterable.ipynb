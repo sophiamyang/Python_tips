{
 "cells": [
  {
   "cell_type": "markdown",
   "id": "13edb5b8",
   "metadata": {},
   "source": [
    "# iterable and iterator (basic)\n",
    " "
   ]
  },
  {
   "cell_type": "markdown",
   "id": "e5359ea9",
   "metadata": {},
   "source": [
    "iterable is an \"an object capable of returning its members one at a time.\" In other words, iterable is an object that can be iterated over or looped over. For example, list, string, tuple, dict, set are all iterables. Here we have a list [1, 2, 3]. We can use a for loop to iterate over this list:"
   ]
  },
  {
   "cell_type": "code",
   "execution_count": null,
   "id": "da632294",
   "metadata": {},
   "outputs": [],
   "source": [
    "L = [1, 2, 3]"
   ]
  },
  {
   "cell_type": "code",
   "execution_count": null,
   "id": "586b51da",
   "metadata": {},
   "outputs": [],
   "source": [
    "for i in L:\n",
    "    print(i)"
   ]
  },
  {
   "cell_type": "markdown",
   "id": "94006b83",
   "metadata": {},
   "source": [
    "Any object with the iter method is an iterable. We can call the iter method on our iterable list l. You can either call this method by `L.__iter__()` or iter(l). The result of this is a iterator, let's call it iterl. "
   ]
  },
  {
   "cell_type": "code",
   "execution_count": null,
   "id": "a7e31b51",
   "metadata": {},
   "outputs": [],
   "source": [
    "L.__iter__()"
   ]
  },
  {
   "cell_type": "code",
   "execution_count": null,
   "id": "6808e676",
   "metadata": {},
   "outputs": [],
   "source": [
    "iter(L)"
   ]
  },
  {
   "cell_type": "code",
   "execution_count": null,
   "id": "187c4db4",
   "metadata": {},
   "outputs": [],
   "source": [
    "it = iter(L)"
   ]
  },
  {
   "cell_type": "markdown",
   "id": "9b22968b",
   "metadata": {},
   "source": [
    "So what is an iterator? iterator is an object representing a stream of data. We can call iterator's next() method to get successive items in the stream. "
   ]
  },
  {
   "cell_type": "code",
   "execution_count": null,
   "id": "d2690082",
   "metadata": {},
   "outputs": [],
   "source": [
    "next(it)"
   ]
  },
  {
   "cell_type": "code",
   "execution_count": null,
   "id": "a07b5330",
   "metadata": {},
   "outputs": [],
   "source": [
    "next(it)"
   ]
  },
  {
   "cell_type": "code",
   "execution_count": null,
   "id": "08330af2",
   "metadata": {},
   "outputs": [],
   "source": [
    "next(it)"
   ]
  },
  {
   "cell_type": "markdown",
   "id": "0484dcd9",
   "metadata": {},
   "source": [
    "When no more data are available and the iterator object is exhausted, a StopIteration exception is raised"
   ]
  },
  {
   "cell_type": "code",
   "execution_count": null,
   "id": "7d674eca",
   "metadata": {},
   "outputs": [],
   "source": [
    "next(it)"
   ]
  },
  {
   "cell_type": "markdown",
   "id": "51d59f02",
   "metadata": {},
   "source": [
    "An iterator also has an iter method, which means that an iterator is also an iterable. The iter method on an iterator actually returns the iterator itself. That's why iter(iterl) here is actually equal to iter1. "
   ]
  },
  {
   "cell_type": "code",
   "execution_count": null,
   "id": "b45eb68c",
   "metadata": {},
   "outputs": [],
   "source": [
    "iter(it)"
   ]
  },
  {
   "cell_type": "code",
   "execution_count": null,
   "id": "4a833887",
   "metadata": {},
   "outputs": [],
   "source": [
    "it"
   ]
  },
  {
   "cell_type": "code",
   "execution_count": null,
   "id": "5b069a84",
   "metadata": {},
   "outputs": [],
   "source": [
    "iter(it) == it"
   ]
  },
  {
   "cell_type": "markdown",
   "id": "10f872ca",
   "metadata": {},
   "source": [
    "To recap, any object with the iter method is an iterable. When we call the iter method on this iterable, the result is an iterator, which has the next method to return items in the stream of data one at a time. In the next video, we are going to see more inner works of iterators and iterables. See you in the next video. \n",
    "\n",
    "References:\n",
    "- https://docs.python.org/3/library/collections.abc.html#collections.abc.Iterable\n",
    "- https://docs.python.org/3/glossary.html#term-iterable"
   ]
  },
  {
   "cell_type": "markdown",
   "id": "2c3e2f2e",
   "metadata": {},
   "source": [
    "# iterable and iterator (medium)"
   ]
  },
  {
   "cell_type": "code",
   "execution_count": null,
   "id": "344a3317",
   "metadata": {},
   "outputs": [],
   "source": [
    "# two for loops of L have different iterator, each has its own state. \n",
    "L = [1, 2] #iterable \n",
    "for x in L:\n",
    "    print('x', x)\n",
    "    for y in L:\n",
    "        print('   y', y)"
   ]
  },
  {
   "cell_type": "code",
   "execution_count": null,
   "id": "c07fc5ae",
   "metadata": {},
   "outputs": [],
   "source": [
    "# iterator has a state\n",
    "# these two have the same iterator, which shares the state\n",
    "# when x iterated over 1, the state moves to 2, that's why y is only iterating over 2\n",
    "it = iter([1, 2]) #iterator \n",
    "for x in it:\n",
    "    print('x', x)\n",
    "    for y in it:\n",
    "        print('y', y)"
   ]
  },
  {
   "cell_type": "markdown",
   "id": "0bdad112",
   "metadata": {},
   "source": [
    "# iterable and iterator (advanced)"
   ]
  },
  {
   "cell_type": "code",
   "execution_count": 1,
   "id": "b215898e",
   "metadata": {},
   "outputs": [],
   "source": [
    "def doubler_generator(x):\n",
    "    while True:\n",
    "        yield x\n",
    "        x *= 2"
   ]
  },
  {
   "cell_type": "code",
   "execution_count": 2,
   "id": "1318cad0",
   "metadata": {},
   "outputs": [
    {
     "name": "stdout",
     "output_type": "stream",
     "text": [
      "1\n",
      "2\n",
      "4\n",
      "8\n",
      "16\n"
     ]
    }
   ],
   "source": [
    "for x in doubler_generator(1):\n",
    "    print(x)\n",
    "    if x >= 16:\n",
    "        break"
   ]
  },
  {
   "cell_type": "code",
   "execution_count": 3,
   "id": "b77647b8",
   "metadata": {},
   "outputs": [],
   "source": [
    "class DoublerIterator:\n",
    "    def __init__(self, init):\n",
    "        self.init = init\n",
    "        self.cur = None\n",
    "        self.next = init\n",
    "\n",
    "    def __iter__(self):\n",
    "        return self\n",
    "    \n",
    "    def __next__(self):\n",
    "        self.cur = self.next\n",
    "        self.next *= 2\n",
    "        return self.cur"
   ]
  },
  {
   "cell_type": "code",
   "execution_count": 4,
   "id": "f5113f13",
   "metadata": {},
   "outputs": [
    {
     "name": "stdout",
     "output_type": "stream",
     "text": [
      "1\n",
      "2\n",
      "4\n",
      "8\n",
      "16\n"
     ]
    }
   ],
   "source": [
    "doubling_iterator = DoublerIterator(1)\n",
    "for x in doubling_iterator:\n",
    "    print(x)\n",
    "    if x >= 16:\n",
    "        break"
   ]
  },
  {
   "cell_type": "code",
   "execution_count": 5,
   "id": "77a005bc",
   "metadata": {},
   "outputs": [
    {
     "data": {
      "text/plain": [
       "1"
      ]
     },
     "execution_count": 5,
     "metadata": {},
     "output_type": "execute_result"
    }
   ],
   "source": [
    "doubling_iterator.init"
   ]
  },
  {
   "cell_type": "code",
   "execution_count": 6,
   "id": "23666a09",
   "metadata": {},
   "outputs": [
    {
     "data": {
      "text/plain": [
       "16"
      ]
     },
     "execution_count": 6,
     "metadata": {},
     "output_type": "execute_result"
    }
   ],
   "source": [
    "doubling_iterator.cur"
   ]
  },
  {
   "cell_type": "code",
   "execution_count": 7,
   "id": "0ed84952",
   "metadata": {},
   "outputs": [
    {
     "data": {
      "text/plain": [
       "32"
      ]
     },
     "execution_count": 7,
     "metadata": {},
     "output_type": "execute_result"
    }
   ],
   "source": [
    "doubling_iterator.next"
   ]
  },
  {
   "cell_type": "code",
   "execution_count": 8,
   "id": "f0483523",
   "metadata": {},
   "outputs": [
    {
     "data": {
      "text/plain": [
       "32"
      ]
     },
     "execution_count": 8,
     "metadata": {},
     "output_type": "execute_result"
    }
   ],
   "source": [
    "next(doubling_iterator)"
   ]
  },
  {
   "cell_type": "code",
   "execution_count": 9,
   "id": "e7a506f1",
   "metadata": {},
   "outputs": [],
   "source": [
    "class DoublerIterable:\n",
    "    def __init__(self, init):\n",
    "        self.init = init\n",
    "\n",
    "    def __iter__(self):\n",
    "        return DoublerIterator(self.init)"
   ]
  },
  {
   "cell_type": "code",
   "execution_count": 10,
   "id": "a1238e55",
   "metadata": {},
   "outputs": [
    {
     "name": "stdout",
     "output_type": "stream",
     "text": [
      "1\n",
      "2\n",
      "4\n",
      "8\n",
      "16\n"
     ]
    }
   ],
   "source": [
    "doubler_iterable = DoublerIterable(1)\n",
    "for x in doubler_iterable:\n",
    "    print(x)\n",
    "    if x >= 16:\n",
    "        break"
   ]
  },
  {
   "cell_type": "code",
   "execution_count": 11,
   "id": "e241c8b9",
   "metadata": {},
   "outputs": [
    {
     "name": "stdout",
     "output_type": "stream",
     "text": [
      "1\n",
      "2\n",
      "4\n",
      "8\n",
      "16\n"
     ]
    }
   ],
   "source": [
    "for x in doubler_iterable:\n",
    "    print(x)\n",
    "    if x >= 16:\n",
    "        break"
   ]
  },
  {
   "cell_type": "code",
   "execution_count": 12,
   "id": "e75e90d1",
   "metadata": {},
   "outputs": [
    {
     "ename": "TypeError",
     "evalue": "'DoublerIterable' object is not an iterator",
     "output_type": "error",
     "traceback": [
      "\u001b[0;31m---------------------------------------------------------------------------\u001b[0m",
      "\u001b[0;31mTypeError\u001b[0m                                 Traceback (most recent call last)",
      "Cell \u001b[0;32mIn[12], line 1\u001b[0m\n\u001b[0;32m----> 1\u001b[0m \u001b[38;5;28;43mnext\u001b[39;49m\u001b[43m(\u001b[49m\u001b[43mdoubler_iterable\u001b[49m\u001b[43m)\u001b[49m\n",
      "\u001b[0;31mTypeError\u001b[0m: 'DoublerIterable' object is not an iterator"
     ]
    }
   ],
   "source": [
    "next(doubler_iterable)"
   ]
  },
  {
   "cell_type": "code",
   "execution_count": 13,
   "id": "65772a36",
   "metadata": {},
   "outputs": [],
   "source": [
    "class DoublerIterableAlt:\n",
    "    def __init__(self, init):\n",
    "        self.init = init\n",
    "\n",
    "    def __iter__(self):\n",
    "        x = self.init\n",
    "        while True:\n",
    "            yield x\n",
    "            x *= 2"
   ]
  },
  {
   "cell_type": "code",
   "execution_count": 14,
   "id": "9ad8276f",
   "metadata": {},
   "outputs": [
    {
     "name": "stdout",
     "output_type": "stream",
     "text": [
      "1\n",
      "2\n",
      "4\n",
      "8\n",
      "16\n"
     ]
    }
   ],
   "source": [
    "doubler_iterable_alt = DoublerIterableAlt(1)\n",
    "for x in doubler_iterable_alt:\n",
    "    print(x)\n",
    "    if x >= 16:\n",
    "        break"
   ]
  },
  {
   "cell_type": "code",
   "execution_count": null,
   "id": "93a3478c",
   "metadata": {},
   "outputs": [],
   "source": []
  }
 ],
 "metadata": {
  "kernelspec": {
   "display_name": "Python 3 (ipykernel)",
   "language": "python",
   "name": "python3"
  },
  "language_info": {
   "codemirror_mode": {
    "name": "ipython",
    "version": 3
   },
   "file_extension": ".py",
   "mimetype": "text/x-python",
   "name": "python",
   "nbconvert_exporter": "python",
   "pygments_lexer": "ipython3",
   "version": "3.10.9"
  }
 },
 "nbformat": 4,
 "nbformat_minor": 5
}
