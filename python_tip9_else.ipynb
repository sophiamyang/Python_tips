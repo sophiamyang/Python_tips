{
 "cells": [
  {
   "cell_type": "markdown",
   "id": "e22c7a79-0dde-4d01-947c-9e8a3673a27c",
   "metadata": {},
   "source": [
    "# For Else and While Else\n",
    "\n",
    "## For Else"
   ]
  },
  {
   "cell_type": "code",
   "execution_count": 33,
   "id": "e2a0a492-a8f7-4808-b5b4-2592dbace130",
   "metadata": {
    "tags": []
   },
   "outputs": [
    {
     "name": "stdout",
     "output_type": "stream",
     "text": [
      "1\n",
      "2\n",
      "3\n",
      "all done\n"
     ]
    }
   ],
   "source": [
    "for x in [1, 2, 3]:\n",
    "    print(x)\n",
    "else:\n",
    "    print('all done')"
   ]
  },
  {
   "cell_type": "markdown",
   "id": "4868f195-f0ce-4a9a-818b-c71703690c39",
   "metadata": {},
   "source": [
    "It's the same as if we don't have `else`:"
   ]
  },
  {
   "cell_type": "code",
   "execution_count": 34,
   "id": "40bdd7b3-ad94-4547-800d-4a4fa25dbe73",
   "metadata": {
    "tags": []
   },
   "outputs": [
    {
     "name": "stdout",
     "output_type": "stream",
     "text": [
      "1\n",
      "2\n",
      "3\n",
      "all done\n"
     ]
    }
   ],
   "source": [
    "for x in [1, 2, 3]:\n",
    "    print(x)\n",
    "print('all done')"
   ]
  },
  {
   "cell_type": "markdown",
   "id": "3fd33761-0d3e-4cbe-a05f-6c82da6bcd09",
   "metadata": {},
   "source": [
    "But `else` can useful when we have a `break` in the loop:\n",
    "\n",
    "`else`: if we exict the loop without break\n"
   ]
  },
  {
   "cell_type": "code",
   "execution_count": 195,
   "id": "b1728220-fd5d-4a8d-bc7f-ef13d63dac38",
   "metadata": {
    "tags": []
   },
   "outputs": [
    {
     "name": "stdout",
     "output_type": "stream",
     "text": [
      "2 not seen\n"
     ]
    }
   ],
   "source": [
    "for x in [1, 20, 3]:\n",
    "    if x == 2:\n",
    "        break\n",
    "else:\n",
    "    print('2 not seen')"
   ]
  },
  {
   "cell_type": "code",
   "execution_count": 37,
   "id": "20b724c0-5db0-45af-a31b-35ece8e47914",
   "metadata": {
    "tags": []
   },
   "outputs": [
    {
     "name": "stdout",
     "output_type": "stream",
     "text": [
      "in else\n"
     ]
    }
   ],
   "source": [
    "for x in []:\n",
    "    print(x)\n",
    "else:\n",
    "    print('in else')"
   ]
  },
  {
   "cell_type": "markdown",
   "id": "80b99bb4-16f5-4593-950e-259e575d878f",
   "metadata": {},
   "source": [
    "## A fun example with While Else\n"
   ]
  },
  {
   "cell_type": "code",
   "execution_count": 169,
   "id": "8f59f28e-9b8e-4e04-873c-502d16a204c9",
   "metadata": {
    "tags": []
   },
   "outputs": [],
   "source": [
    "map1 = \"\"\"\n",
    "#########\n",
    "#..v....#\n",
    "#....w..#\n",
    "#.*.....#\n",
    "#.......#\n",
    "#########\n",
    "\"\"\"\n",
    "\n",
    "MONSTERS = {\n",
    "    'v': 'vampire',\n",
    "    'w': 'wolf',\n",
    "}\n",
    "IMPASSABLE = {\"#\", \"&\"}\n",
    "TREASURES = {\"*\", \"$\"}"
   ]
  },
  {
   "cell_type": "code",
   "execution_count": 170,
   "id": "2592c17b-9234-488c-bdab-e6f69a39f938",
   "metadata": {
    "tags": []
   },
   "outputs": [],
   "source": [
    "class Map:\n",
    "    def __init__(self, ascii_map):\n",
    "        self.map = ascii_map.strip().split('\\n')\n",
    "\n",
    "    def can_move(self, x, y):\n",
    "        if x < 0 or y < 0:\n",
    "            return False\n",
    "        try:\n",
    "            return self.map[x][y] not in IMPASSABLE\n",
    "        except IndexError:\n",
    "            return False\n",
    "\n",
    "    def has_treasure(self, x, y):\n",
    "        return self.can_move(x, y) and self.map[x][y] in TREASURES\n",
    "    \n",
    "    def has_monster(self, x, y):\n",
    "        return self.can_move(x, y) and self.map[x][y] in MONSTERS\n",
    "    \n",
    "    def print_map(self, robot=None):\n",
    "        map = self.map.copy()\n",
    "        if robot:\n",
    "            row = list(map[robot.x])\n",
    "            row[robot.y] = '@'\n",
    "            map[robot.x] = ''.join(row)\n",
    "        print('\\n'.join(map))\n",
    "        print()"
   ]
  },
  {
   "cell_type": "code",
   "execution_count": 171,
   "id": "ec7548e1-c97f-4793-abf0-ee42521be04e",
   "metadata": {
    "tags": []
   },
   "outputs": [],
   "source": [
    "import random"
   ]
  },
  {
   "cell_type": "code",
   "execution_count": 172,
   "id": "c12ec1fd-5a5f-4260-a23e-429de1eaa821",
   "metadata": {
    "tags": []
   },
   "outputs": [
    {
     "data": {
      "text/plain": [
       "0"
      ]
     },
     "execution_count": 172,
     "metadata": {},
     "output_type": "execute_result"
    }
   ],
   "source": [
    "random.randint(-1, 1)"
   ]
  },
  {
   "cell_type": "code",
   "execution_count": 173,
   "id": "a549e59a-aad3-4d2e-b2eb-8a7ed876f20a",
   "metadata": {
    "tags": []
   },
   "outputs": [
    {
     "data": {
      "text/plain": [
       "['#########', '#..v....#', '#....w..#', '#.*.....#', '#.......#', '#########']"
      ]
     },
     "execution_count": 173,
     "metadata": {},
     "output_type": "execute_result"
    }
   ],
   "source": [
    "env = Map(map1)\n",
    "env.map"
   ]
  },
  {
   "cell_type": "code",
   "execution_count": 174,
   "id": "d103dcb7-e012-4afb-91b4-2b2c9494997a",
   "metadata": {
    "tags": []
   },
   "outputs": [
    {
     "name": "stdout",
     "output_type": "stream",
     "text": [
      "#########\n",
      "#..v....#\n",
      "#....w..#\n",
      "#.*.....#\n",
      "#.......#\n",
      "#########\n",
      "\n"
     ]
    }
   ],
   "source": [
    "env.print_map()"
   ]
  },
  {
   "cell_type": "code",
   "execution_count": 175,
   "id": "c391ac3a-c219-45e3-a013-4e0922b11e64",
   "metadata": {
    "tags": []
   },
   "outputs": [
    {
     "data": {
      "text/plain": [
       "False"
      ]
     },
     "execution_count": 175,
     "metadata": {},
     "output_type": "execute_result"
    }
   ],
   "source": [
    "env.can_move(0, 1)"
   ]
  },
  {
   "cell_type": "code",
   "execution_count": 176,
   "id": "18bb4924-5b83-40f4-b2e9-0758dc9fc908",
   "metadata": {
    "tags": []
   },
   "outputs": [
    {
     "data": {
      "text/plain": [
       "False"
      ]
     },
     "execution_count": 176,
     "metadata": {},
     "output_type": "execute_result"
    }
   ],
   "source": [
    "env.has_treasure(1, 1)"
   ]
  },
  {
   "cell_type": "code",
   "execution_count": 177,
   "id": "532eef02-f56c-4b06-ab7d-37776e362340",
   "metadata": {
    "tags": []
   },
   "outputs": [
    {
     "data": {
      "text/plain": [
       "True"
      ]
     },
     "execution_count": 177,
     "metadata": {},
     "output_type": "execute_result"
    }
   ],
   "source": [
    "env.has_treasure(3, 2)"
   ]
  },
  {
   "cell_type": "code",
   "execution_count": 178,
   "id": "e3728ab4-1bcf-449c-91f7-ef3dcb49c125",
   "metadata": {
    "tags": []
   },
   "outputs": [],
   "source": [
    "class Robot:\n",
    "    def __init__(self, x, y, life=5):\n",
    "        self.x = x\n",
    "        self.y = y\n",
    "        self.life = life\n",
    "        \n",
    "    def is_alive(self):\n",
    "        return self.life > 0 \n",
    "    \n",
    "    def search_for_treasure(self):\n",
    "        if not self.is_alive():\n",
    "            raise DeadRobotError(\"Robot is dead; it can't search for treasure\")\n",
    "        while True:\n",
    "            # Find a valid direction to move\n",
    "            x = self.x + random.randint(-1, 1)\n",
    "            y = self.y + random.randint(-1, 1)\n",
    "            if (x != self.x or y != self.y) and env.can_move(x, y):\n",
    "                self.x = x\n",
    "                self.y = y\n",
    "                break\n",
    "        self.life -= 1\n",
    "        if env.has_monster(x, y):\n",
    "            self.life = 0\n",
    "            print(f\"Oh no, robot was mutilated to death by {MONSTERS[env.map[x][y]]}!\")\n",
    "        else:\n",
    "            print(f\"searching... life remaining: {self.life}\")\n",
    "    \n",
    "    def found_treasure(self):\n",
    "        return env.has_treasure(self.x, self.y)\n",
    "\n",
    "\n",
    "class DeadRobotError(Exception):\n",
    "    \"\"\"Robot is non-functional\"\"\""
   ]
  },
  {
   "cell_type": "code",
   "execution_count": 193,
   "id": "063c3f2d-d346-40e8-92e9-3031e4187d8b",
   "metadata": {
    "tags": []
   },
   "outputs": [
    {
     "name": "stdout",
     "output_type": "stream",
     "text": [
      "Let's go find some treasure! Life remaining: 5\n",
      "#########\n",
      "#@.v....#\n",
      "#....w..#\n",
      "#.*.....#\n",
      "#.......#\n",
      "#########\n",
      "\n",
      "searching... life remaining: 4\n",
      "#########\n",
      "#..v....#\n",
      "#.@..w..#\n",
      "#.*.....#\n",
      "#.......#\n",
      "#########\n",
      "\n",
      "searching... life remaining: 3\n",
      "#########\n",
      "#..v....#\n",
      "#....w..#\n",
      "#@*.....#\n",
      "#.......#\n",
      "#########\n",
      "\n",
      "searching... life remaining: 2\n",
      "#########\n",
      "#..v....#\n",
      "#.@..w..#\n",
      "#.*.....#\n",
      "#.......#\n",
      "#########\n",
      "\n",
      "searching... life remaining: 1\n",
      "#########\n",
      "#..v....#\n",
      "#@...w..#\n",
      "#.*.....#\n",
      "#.......#\n",
      "#########\n",
      "\n",
      "searching... life remaining: 0\n",
      "#########\n",
      "#.@v....#\n",
      "#....w..#\n",
      "#.*.....#\n",
      "#.......#\n",
      "#########\n",
      "\n"
     ]
    },
    {
     "ename": "DeadRobotError",
     "evalue": "robot died before finding the treasure",
     "output_type": "error",
     "traceback": [
      "\u001b[0;31m---------------------------------------------------------------------------\u001b[0m",
      "\u001b[0;31mDeadRobotError\u001b[0m                            Traceback (most recent call last)",
      "Cell \u001b[0;32mIn[193], line 12\u001b[0m\n\u001b[1;32m     10\u001b[0m         \u001b[38;5;28;01mbreak\u001b[39;00m\n\u001b[1;32m     11\u001b[0m \u001b[38;5;28;01melse\u001b[39;00m:\n\u001b[0;32m---> 12\u001b[0m     \u001b[38;5;28;01mraise\u001b[39;00m DeadRobotError(\u001b[38;5;124m\"\u001b[39m\u001b[38;5;124mrobot died before finding the treasure\u001b[39m\u001b[38;5;124m\"\u001b[39m)\n",
      "\u001b[0;31mDeadRobotError\u001b[0m: robot died before finding the treasure"
     ]
    }
   ],
   "source": [
    "robot = Robot(1, 1)\n",
    "print(f\"Let's go find some treasure! Life remaining: {robot.life}\")\n",
    "env.print_map(robot)\n",
    "\n",
    "while robot.is_alive():\n",
    "    robot.search_for_treasure()\n",
    "    env.print_map(robot)\n",
    "    if robot.found_treasure():\n",
    "        print(\"Yay! Found treasure!\")\n",
    "        break\n",
    "else:\n",
    "    raise DeadRobotError(\"robot died before finding the treasure\")"
   ]
  }
 ],
 "metadata": {
  "kernelspec": {
   "display_name": "Python 3 (ipykernel)",
   "language": "python",
   "name": "python3"
  },
  "language_info": {
   "codemirror_mode": {
    "name": "ipython",
    "version": 3
   },
   "file_extension": ".py",
   "mimetype": "text/x-python",
   "name": "python",
   "nbconvert_exporter": "python",
   "pygments_lexer": "ipython3",
   "version": "3.10.9"
  }
 },
 "nbformat": 4,
 "nbformat_minor": 5
}
