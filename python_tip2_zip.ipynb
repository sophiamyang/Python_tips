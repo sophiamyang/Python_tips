{
 "cells": [
  {
   "cell_type": "markdown",
   "id": "f54ab487",
   "metadata": {},
   "source": [
    "# Zip \n",
    "\n",
    "Python Zip function is where you can iterate several iterables (for example lists) in parallel. Let’s say we have a list of numbers and a list of cities.  We can use zip as a lazy generator to iterate over those two lists at the same time. Let’s print the items in a for loop. The results are tuples.  \n"
   ]
  },
  {
   "cell_type": "code",
   "execution_count": 1,
   "id": "8c30dba6",
   "metadata": {},
   "outputs": [
    {
     "name": "stdout",
     "output_type": "stream",
     "text": [
      "(1, 'NYC')\n",
      "(2, 'SF')\n",
      "(3, 'ATX')\n"
     ]
    }
   ],
   "source": [
    "a = [1, 2, 3]\n",
    "b = ['NYC', 'SF', 'ATX']\n",
    "\n",
    "for item in zip(a,b):\n",
    "    print(item)"
   ]
  },
  {
   "cell_type": "code",
   "execution_count": 2,
   "id": "f0f8586c",
   "metadata": {},
   "outputs": [
    {
     "data": {
      "text/plain": [
       "[(1, 'NYC'), (2, 'SF'), (3, 'ATX')]"
      ]
     },
     "execution_count": 2,
     "metadata": {},
     "output_type": "execute_result"
    }
   ],
   "source": [
    "# We can also wrap the zip in a list.\n",
    "list(zip(a,b))"
   ]
  },
  {
   "cell_type": "code",
   "execution_count": 3,
   "id": "1215f434",
   "metadata": {},
   "outputs": [
    {
     "data": {
      "text/plain": [
       "[(1, 2, 3), ('NYC', 'SF', 'ATX')]"
      ]
     },
     "execution_count": 3,
     "metadata": {},
     "output_type": "execute_result"
    }
   ],
   "source": [
    "# What happens if we do list(zip(*zip(a,b))? It returns back to the original list. *zip unpacks everything in the list. \n",
    "# It’s the same as if we write everything out in the list. (Next cell)\n",
    "list(zip(*zip(a,b)))"
   ]
  },
  {
   "cell_type": "code",
   "execution_count": 4,
   "id": "69ae6542",
   "metadata": {},
   "outputs": [
    {
     "data": {
      "text/plain": [
       "[(1, 2, 3), ('NYC', 'SF', 'ATX')]"
      ]
     },
     "execution_count": 4,
     "metadata": {},
     "output_type": "execute_result"
    }
   ],
   "source": [
    "list(zip((1, 'NYC'), (2, 'SF'), (3, 'ATX')))"
   ]
  },
  {
   "cell_type": "markdown",
   "id": "a75d0e73",
   "metadata": {},
   "source": [
    "### Different lengths?\n",
    "\n",
    "But do you know what happens when these two lists have different lengths? \n",
    "\n",
    "\n",
    "#### Default\n",
    "The default behavior is to stop at the end of the shortest list. Here we see three items printed out:"
   ]
  },
  {
   "cell_type": "code",
   "execution_count": 5,
   "id": "d02f9a76",
   "metadata": {},
   "outputs": [
    {
     "name": "stdout",
     "output_type": "stream",
     "text": [
      "(1, 'NYC')\n",
      "(2, 'SF')\n",
      "(3, 'ATX')\n"
     ]
    }
   ],
   "source": [
    "a = [1, 2, 3]\n",
    "b = ['NYC', 'SF', 'ATX', 'SEA']\n",
    "\n",
    "for item in zip(a,b):\n",
    "    print(item)"
   ]
  },
  {
   "cell_type": "markdown",
   "id": "1466cbb6",
   "metadata": {},
   "source": [
    "#### zip_longest\n",
    "We can also consider using the zip_longest function from itertools to replace missing elements in the shorter list with None.  "
   ]
  },
  {
   "cell_type": "code",
   "execution_count": 6,
   "id": "b21e4b62",
   "metadata": {},
   "outputs": [
    {
     "name": "stdout",
     "output_type": "stream",
     "text": [
      "(1, 'NYC')\n",
      "(2, 'SF')\n",
      "(3, 'ATX')\n",
      "(None, 'SEA')\n"
     ]
    }
   ],
   "source": [
    "import itertools\n",
    "a = [1, 2, 3]\n",
    "b = ['NYC', 'SF', 'ATX', 'SEA']\n",
    "\n",
    "for item in itertools.zip_longest(a,b):\n",
    "    print(item)"
   ]
  },
  {
   "cell_type": "markdown",
   "id": "48d74f7f",
   "metadata": {},
   "source": [
    "#### strict=True\n",
    "Python 3.10 added a strict flag which is used to require all iterables to have the same length. You can see that here we get an error message that argument 2 is longer than argument 1:\n"
   ]
  },
  {
   "cell_type": "code",
   "execution_count": 7,
   "id": "6d206a98",
   "metadata": {},
   "outputs": [
    {
     "name": "stdout",
     "output_type": "stream",
     "text": [
      "(1, 'NYC')\n",
      "(2, 'SF')\n",
      "(3, 'ATX')\n"
     ]
    },
    {
     "ename": "ValueError",
     "evalue": "zip() argument 2 is longer than argument 1",
     "output_type": "error",
     "traceback": [
      "\u001b[0;31m---------------------------------------------------------------------------\u001b[0m",
      "\u001b[0;31mValueError\u001b[0m                                Traceback (most recent call last)",
      "Cell \u001b[0;32mIn[7], line 1\u001b[0m\n\u001b[0;32m----> 1\u001b[0m \u001b[38;5;28;01mfor\u001b[39;00m item \u001b[38;5;129;01min\u001b[39;00m \u001b[38;5;28mzip\u001b[39m(a,b, strict\u001b[38;5;241m=\u001b[39m\u001b[38;5;28;01mTrue\u001b[39;00m):\n\u001b[1;32m      2\u001b[0m     \u001b[38;5;28mprint\u001b[39m(item)\n",
      "\u001b[0;31mValueError\u001b[0m: zip() argument 2 is longer than argument 1"
     ]
    }
   ],
   "source": [
    "for item in zip(a,b, strict=True):\n",
    "    print(item)"
   ]
  }
 ],
 "metadata": {
  "kernelspec": {
   "display_name": "Python 3 (ipykernel)",
   "language": "python",
   "name": "python3"
  },
  "language_info": {
   "codemirror_mode": {
    "name": "ipython",
    "version": 3
   },
   "file_extension": ".py",
   "mimetype": "text/x-python",
   "name": "python",
   "nbconvert_exporter": "python",
   "pygments_lexer": "ipython3",
   "version": "3.10.8"
  },
  "vscode": {
   "interpreter": {
    "hash": "7490daeb90e508bedeced752a7d8fa2e69793ca40e878fa32a321dee7f10cae0"
   }
  }
 },
 "nbformat": 4,
 "nbformat_minor": 5
}
