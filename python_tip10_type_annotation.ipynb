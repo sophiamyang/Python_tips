{
 "cells": [
  {
   "cell_type": "markdown",
   "id": "cd5a5b1b-6f40-4284-9414-ea9a82422182",
   "metadata": {},
   "source": [
    "# Type Annotations \n",
    "\n",
    "# Part 1. Basics"
   ]
  },
  {
   "cell_type": "code",
   "execution_count": null,
   "id": "e8a3a35a-e912-4202-b155-794cdfa3310d",
   "metadata": {},
   "outputs": [],
   "source": [
    "a: int = 1"
   ]
  },
  {
   "cell_type": "code",
   "execution_count": null,
   "id": "260b1c75-fc61-4c8a-92bf-2e6061d23772",
   "metadata": {},
   "outputs": [],
   "source": [
    "a"
   ]
  },
  {
   "cell_type": "code",
   "execution_count": null,
   "id": "6175e16c-428c-44b6-be78-df538498f005",
   "metadata": {},
   "outputs": [],
   "source": [
    "L: list[int] = [1, 2, 3]"
   ]
  },
  {
   "cell_type": "code",
   "execution_count": null,
   "id": "fcfe43d3-cc2f-480e-bd75-fef5f8e9e773",
   "metadata": {},
   "outputs": [],
   "source": [
    "L"
   ]
  },
  {
   "cell_type": "code",
   "execution_count": null,
   "id": "1150ae72-d982-431e-a62a-dfe2716915c0",
   "metadata": {},
   "outputs": [],
   "source": [
    "D: dict[str, int] = {\"spam\": 1, \"eggs\": 2}"
   ]
  },
  {
   "cell_type": "code",
   "execution_count": null,
   "id": "d592a479-e039-42df-bdb6-c039c23996f1",
   "metadata": {},
   "outputs": [],
   "source": [
    "D"
   ]
  },
  {
   "cell_type": "code",
   "execution_count": null,
   "id": "7ce24e91-4d4f-4bd0-a2a7-caecdf557b58",
   "metadata": {},
   "outputs": [],
   "source": [
    "isinstance(5, int)"
   ]
  },
  {
   "cell_type": "code",
   "execution_count": null,
   "id": "c5921533-d519-486d-913a-3aa22460087d",
   "metadata": {},
   "outputs": [],
   "source": [
    "isinstance(5, float)"
   ]
  },
  {
   "cell_type": "code",
   "execution_count": null,
   "id": "8a69ef84-9e81-446b-b90f-b750691baf05",
   "metadata": {},
   "outputs": [],
   "source": [
    "isinstance(5, int | float)"
   ]
  },
  {
   "cell_type": "markdown",
   "id": "3dddd03f-547d-4223-adbd-4529ad576690",
   "metadata": {},
   "source": [
    "### The Any type"
   ]
  },
  {
   "cell_type": "code",
   "execution_count": null,
   "id": "1cb8cada-ba54-4e0e-aaa6-88c300a1d9da",
   "metadata": {},
   "outputs": [],
   "source": [
    "from typing import Any\n",
    "\n",
    "a: Any = None"
   ]
  },
  {
   "cell_type": "markdown",
   "id": "fb2e7b5b-5966-45a9-932e-d6ed3b9a9202",
   "metadata": {},
   "source": [
    "## Type annotation for a function"
   ]
  },
  {
   "cell_type": "code",
   "execution_count": null,
   "id": "a72d03ee-54ba-4c5d-a0b4-076e4d978bad",
   "metadata": {},
   "outputs": [],
   "source": [
    "def mul(a: int, b: int) -> int:\n",
    "    return a * b"
   ]
  },
  {
   "cell_type": "code",
   "execution_count": null,
   "id": "394b1fe0-178d-402f-b2d5-c661f80f20b1",
   "metadata": {},
   "outputs": [],
   "source": [
    "mul(1, 2)"
   ]
  },
  {
   "cell_type": "markdown",
   "id": "05a8916f-e707-43d4-90f6-aef29c1057ca",
   "metadata": {},
   "source": [
    "### Multiple types\n",
    "https://peps.python.org/pep-0604/"
   ]
  },
  {
   "cell_type": "code",
   "execution_count": null,
   "id": "ce5af98a-9212-44f6-8b40-90735ceca36a",
   "metadata": {},
   "outputs": [],
   "source": [
    "def mul(a: int | float, b: int | float) -> int | float:\n",
    "    return a * b"
   ]
  },
  {
   "cell_type": "code",
   "execution_count": null,
   "id": "6bb79494-b5ff-44ce-9ede-ad2f98a8391f",
   "metadata": {},
   "outputs": [],
   "source": [
    "mul(1, 2)"
   ]
  },
  {
   "cell_type": "code",
   "execution_count": null,
   "id": "44cedd08-2013-4e1f-95c0-149cccb971c2",
   "metadata": {},
   "outputs": [],
   "source": [
    "mul(1.5, 2)"
   ]
  },
  {
   "cell_type": "markdown",
   "id": "4e997497-2ef4-4b04-9d66-962de7cfe62f",
   "metadata": {},
   "source": [
    "### Type aliases\n",
    "\n",
    "https://peps.python.org/pep-0484/#type-aliases"
   ]
  },
  {
   "cell_type": "code",
   "execution_count": null,
   "id": "697e2bb4-c837-489a-8b7c-d674700eec9d",
   "metadata": {},
   "outputs": [],
   "source": [
    "Num = int | float"
   ]
  },
  {
   "cell_type": "code",
   "execution_count": null,
   "id": "6176f0e0-7d02-44ac-9686-e94a0301a805",
   "metadata": {},
   "outputs": [],
   "source": [
    "def mul(a: Num, b: Num) -> Num:\n",
    "    return a * b"
   ]
  },
  {
   "cell_type": "code",
   "execution_count": null,
   "id": "51eec55b-0583-4eee-ae13-6ef73ebcb210",
   "metadata": {},
   "outputs": [],
   "source": [
    "mul(2, 2)"
   ]
  },
  {
   "cell_type": "markdown",
   "id": "9c832979-52ae-46b2-befd-201ab8b02897",
   "metadata": {},
   "source": [
    "### Optional argument"
   ]
  },
  {
   "cell_type": "code",
   "execution_count": null,
   "id": "d4783444-2e9f-411f-983d-564a9f191b08",
   "metadata": {},
   "outputs": [],
   "source": [
    "def mul(a: Num, b: Num, c: Num | None = None) -> Num:\n",
    "    return a * b"
   ]
  },
  {
   "cell_type": "code",
   "execution_count": null,
   "id": "123f0b0f-2023-4301-b0fa-4685f4a14b6f",
   "metadata": {},
   "outputs": [],
   "source": [
    "mul(2, 2)"
   ]
  },
  {
   "cell_type": "code",
   "execution_count": null,
   "id": "3eed9b64-5133-4b8e-a9c5-6679ed49924c",
   "metadata": {},
   "outputs": [],
   "source": [
    "import typing\n",
    "\n",
    "typing.Optional[Num]"
   ]
  },
  {
   "cell_type": "markdown",
   "id": "4d16b642-7f16-4cab-8319-fcded1ef514a",
   "metadata": {},
   "source": [
    "### Not enforced"
   ]
  },
  {
   "cell_type": "code",
   "execution_count": null,
   "id": "083a1ff4-c734-406c-b80b-15702ff89b2d",
   "metadata": {},
   "outputs": [],
   "source": [
    "a: int = 1.5"
   ]
  },
  {
   "cell_type": "code",
   "execution_count": null,
   "id": "9ec3eb1f-b805-486a-b3ef-3f53ef3130e4",
   "metadata": {},
   "outputs": [],
   "source": [
    "type(a)"
   ]
  },
  {
   "cell_type": "markdown",
   "id": "8d002a2f-1064-415e-a755-1191d161e5e8",
   "metadata": {},
   "source": [
    " To check if you use the right types, you can use a static type checker like mypy to check."
   ]
  },
  {
   "cell_type": "markdown",
   "id": "17d665cf-f042-4778-bf7a-95520de62af1",
   "metadata": {},
   "source": [
    "# Part 2. Use cases\n",
    "\n",
    "### Named tuples, data classes, Class with `__slots__`"
   ]
  }
 ],
 "metadata": {
  "kernelspec": {
   "display_name": "Python 3 (ipykernel)",
   "language": "python",
   "name": "python3"
  },
  "language_info": {
   "codemirror_mode": {
    "name": "ipython",
    "version": 3
   },
   "file_extension": ".py",
   "mimetype": "text/x-python",
   "name": "python",
   "nbconvert_exporter": "python",
   "pygments_lexer": "ipython3",
   "version": "3.10.8"
  }
 },
 "nbformat": 4,
 "nbformat_minor": 5
}
