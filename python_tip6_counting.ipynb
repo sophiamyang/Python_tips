{
 "cells": [
  {
   "cell_type": "markdown",
   "id": "95f3042c",
   "metadata": {},
   "source": [
    "## 7 ways to count occurances in a list\n",
    "\n",
    "Let's start with a list of animals, how do we count how many times each animal shows up?"
   ]
  },
  {
   "cell_type": "code",
   "execution_count": 1,
   "id": "316b610c",
   "metadata": {},
   "outputs": [],
   "source": [
    "animals = [\"cat\", \"dog\", \"cat\", \"fish\", \"cat\"]"
   ]
  },
  {
   "cell_type": "markdown",
   "id": "981be03c",
   "metadata": {},
   "source": [
    "### Method 1: try except"
   ]
  },
  {
   "cell_type": "code",
   "execution_count": 2,
   "id": "b9a26014",
   "metadata": {},
   "outputs": [
    {
     "data": {
      "text/plain": [
       "{'cat': 3, 'dog': 1, 'fish': 1}"
      ]
     },
     "execution_count": 2,
     "metadata": {},
     "output_type": "execute_result"
    }
   ],
   "source": [
    "d = {}\n",
    "for key in animals:\n",
    "    try:\n",
    "        d[key] += 1\n",
    "    except KeyError:\n",
    "        d[key] = 1\n",
    "d"
   ]
  },
  {
   "cell_type": "markdown",
   "id": "d36ebc76",
   "metadata": {},
   "source": [
    "### Method 2: if statement with in expression variant 1"
   ]
  },
  {
   "cell_type": "code",
   "execution_count": 3,
   "id": "beb61bbc",
   "metadata": {},
   "outputs": [
    {
     "data": {
      "text/plain": [
       "{'cat': 3, 'dog': 1, 'fish': 1}"
      ]
     },
     "execution_count": 3,
     "metadata": {},
     "output_type": "execute_result"
    }
   ],
   "source": [
    "d = {}\n",
    "for key in animals:\n",
    "    if key not in d:\n",
    "        d[key] = 1\n",
    "    else:\n",
    "        d[key] += 1\n",
    "d"
   ]
  },
  {
   "cell_type": "markdown",
   "id": "56f8ee13",
   "metadata": {},
   "source": [
    "### Method 3: if statement with in expression variant 2"
   ]
  },
  {
   "cell_type": "code",
   "execution_count": 25,
   "id": "33bac999",
   "metadata": {},
   "outputs": [
    {
     "data": {
      "text/plain": [
       "{'cat': 3, 'dog': 1, 'fish': 1}"
      ]
     },
     "execution_count": 25,
     "metadata": {},
     "output_type": "execute_result"
    }
   ],
   "source": [
    "d = {}\n",
    "for key in animals:\n",
    "    if key not in d:\n",
    "        d[key] = 0\n",
    "    d[key] += 1\n",
    "d"
   ]
  },
  {
   "cell_type": "markdown",
   "id": "5aa77ce5",
   "metadata": {},
   "source": [
    "### Method 4: setdefault"
   ]
  },
  {
   "cell_type": "code",
   "execution_count": 22,
   "id": "14189c5b",
   "metadata": {},
   "outputs": [
    {
     "data": {
      "text/plain": [
       "{'cat': 3, 'dog': 1, 'fish': 1}"
      ]
     },
     "execution_count": 22,
     "metadata": {},
     "output_type": "execute_result"
    }
   ],
   "source": [
    "d = {}\n",
    "for key in animals:\n",
    "    d.setdefault(key, 0)\n",
    "    d[key] += 1\n",
    "d"
   ]
  },
  {
   "cell_type": "markdown",
   "id": "fde1221d",
   "metadata": {},
   "source": [
    "### Method 5: get"
   ]
  },
  {
   "cell_type": "code",
   "execution_count": 6,
   "id": "6e2b6072",
   "metadata": {},
   "outputs": [
    {
     "data": {
      "text/plain": [
       "{'cat': 3, 'dog': 1, 'fish': 1}"
      ]
     },
     "execution_count": 6,
     "metadata": {},
     "output_type": "execute_result"
    }
   ],
   "source": [
    "d = {}\n",
    "for key in animals:\n",
    "    d[key] = d.get(key, 0) + 1\n",
    "d"
   ]
  },
  {
   "cell_type": "markdown",
   "id": "b0bff2f6",
   "metadata": {},
   "source": [
    "### Method 6: defaultdict"
   ]
  },
  {
   "cell_type": "code",
   "execution_count": 24,
   "id": "03869fd6",
   "metadata": {},
   "outputs": [
    {
     "data": {
      "text/plain": [
       "defaultdict(int, {'cat': 3, 'dog': 1, 'fish': 1})"
      ]
     },
     "execution_count": 24,
     "metadata": {},
     "output_type": "execute_result"
    }
   ],
   "source": [
    "from collections import defaultdict\n",
    "\n",
    "d = defaultdict(int)\n",
    "for key in animals:\n",
    "    d[key] += 1\n",
    "d"
   ]
  },
  {
   "cell_type": "markdown",
   "id": "554e3381",
   "metadata": {},
   "source": [
    "### Method 7: Counter (recommended)"
   ]
  },
  {
   "cell_type": "code",
   "execution_count": 8,
   "id": "4a14c135",
   "metadata": {},
   "outputs": [
    {
     "data": {
      "text/plain": [
       "Counter({'cat': 3, 'dog': 1, 'fish': 1})"
      ]
     },
     "execution_count": 8,
     "metadata": {},
     "output_type": "execute_result"
    }
   ],
   "source": [
    "from collections import Counter\n",
    "\n",
    "Counter(animals)"
   ]
  },
  {
   "cell_type": "markdown",
   "id": "138a2f93",
   "metadata": {},
   "source": [
    "### Other methods"
   ]
  },
  {
   "cell_type": "code",
   "execution_count": 9,
   "id": "e0b2cf7c",
   "metadata": {},
   "outputs": [
    {
     "data": {
      "text/plain": [
       "{'cat': 3, 'dog': 1, 'fish': 1}"
      ]
     },
     "execution_count": 9,
     "metadata": {},
     "output_type": "execute_result"
    }
   ],
   "source": [
    "from toolz import frequencies\n",
    "\n",
    "frequencies(animals)"
   ]
  },
  {
   "cell_type": "code",
   "execution_count": 10,
   "id": "110b2ae3",
   "metadata": {},
   "outputs": [
    {
     "data": {
      "text/plain": [
       "{'cat': 3, 'dog': 1, 'fish': 1}"
      ]
     },
     "execution_count": 10,
     "metadata": {},
     "output_type": "execute_result"
    }
   ],
   "source": [
    "from cytoolz import frequencies\n",
    "\n",
    "frequencies(animals)"
   ]
  },
  {
   "cell_type": "code",
   "execution_count": 11,
   "id": "7011cf07",
   "metadata": {},
   "outputs": [
    {
     "data": {
      "text/plain": [
       "{'cat': 3, 'dog': 1, 'fish': 1}"
      ]
     },
     "execution_count": 11,
     "metadata": {},
     "output_type": "execute_result"
    }
   ],
   "source": [
    "from tlz import frequencies\n",
    "\n",
    "frequencies(animals)"
   ]
  },
  {
   "cell_type": "code",
   "execution_count": 12,
   "id": "d7662c6e",
   "metadata": {},
   "outputs": [],
   "source": [
    "L = list(range(10_000_000))"
   ]
  },
  {
   "cell_type": "code",
   "execution_count": 13,
   "id": "ac2b7640",
   "metadata": {},
   "outputs": [
    {
     "name": "stdout",
     "output_type": "stream",
     "text": [
      "334 ms ± 2.84 ms per loop (mean ± std. dev. of 7 runs, 1 loop each)\n"
     ]
    }
   ],
   "source": [
    "%timeit dict(Counter(L))"
   ]
  },
  {
   "cell_type": "code",
   "execution_count": 14,
   "id": "6081cdce",
   "metadata": {},
   "outputs": [
    {
     "name": "stdout",
     "output_type": "stream",
     "text": [
      "295 ms ± 5.43 ms per loop (mean ± std. dev. of 7 runs, 1 loop each)\n"
     ]
    }
   ],
   "source": [
    "%timeit frequencies(L)"
   ]
  },
  {
   "cell_type": "code",
   "execution_count": 15,
   "id": "2005c7a3",
   "metadata": {},
   "outputs": [],
   "source": [
    "L2 = [0 for _ in range(10_000_000)]"
   ]
  },
  {
   "cell_type": "code",
   "execution_count": 16,
   "id": "ef37242f",
   "metadata": {},
   "outputs": [
    {
     "name": "stdout",
     "output_type": "stream",
     "text": [
      "232 ms ± 1.96 ms per loop (mean ± std. dev. of 7 runs, 1 loop each)\n"
     ]
    }
   ],
   "source": [
    "%timeit dict(Counter(L2))"
   ]
  },
  {
   "cell_type": "code",
   "execution_count": 17,
   "id": "8c3a4e0b",
   "metadata": {},
   "outputs": [
    {
     "name": "stdout",
     "output_type": "stream",
     "text": [
      "226 ms ± 1.76 ms per loop (mean ± std. dev. of 7 runs, 1 loop each)\n"
     ]
    }
   ],
   "source": [
    "%timeit frequencies(L2)"
   ]
  }
 ],
 "metadata": {
  "kernelspec": {
   "display_name": "Python 3 (ipykernel)",
   "language": "python",
   "name": "python3"
  },
  "language_info": {
   "codemirror_mode": {
    "name": "ipython",
    "version": 3
   },
   "file_extension": ".py",
   "mimetype": "text/x-python",
   "name": "python",
   "nbconvert_exporter": "python",
   "pygments_lexer": "ipython3",
   "version": "3.10.8"
  }
 },
 "nbformat": 4,
 "nbformat_minor": 5
}
