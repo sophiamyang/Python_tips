{
 "cells": [
  {
   "cell_type": "markdown",
   "id": "94358d14-90a0-40f2-8783-739925cf2aa0",
   "metadata": {},
   "source": [
    "# Slicing "
   ]
  },
  {
   "cell_type": "code",
   "execution_count": 1,
   "id": "3889f8cd-4776-46f4-a01c-c1b571a39198",
   "metadata": {},
   "outputs": [],
   "source": [
    "a = [0, 1, 2, 3, 4, 5, 6, 7, 8, 9, 10]"
   ]
  },
  {
   "cell_type": "markdown",
   "id": "5b871f3a-02b6-4029-a612-d6dcd3128f2a",
   "metadata": {},
   "source": [
    "## Method 1 \n",
    "\n",
    "### a[start index(inclusive):stop index (exclusive):step size]"
   ]
  },
  {
   "cell_type": "code",
   "execution_count": 2,
   "id": "044bc8f3-9f50-4404-bcd3-7e7f74255e21",
   "metadata": {},
   "outputs": [
    {
     "data": {
      "text/plain": [
       "[3, 5]"
      ]
     },
     "execution_count": 2,
     "metadata": {},
     "output_type": "execute_result"
    }
   ],
   "source": [
    "# from start index 3 to stop index 7 with a step size of 2\n",
    "a[3:7:2]"
   ]
  },
  {
   "cell_type": "code",
   "execution_count": 3,
   "id": "7c5d32e4-2258-40ba-994b-65fc977abd48",
   "metadata": {},
   "outputs": [
    {
     "data": {
      "text/plain": [
       "[0, 2, 4, 6, 8, 10]"
      ]
     },
     "execution_count": 3,
     "metadata": {},
     "output_type": "execute_result"
    }
   ],
   "source": [
    "# from the begining to the end of the list with a step size of 2\n",
    "a[::2]"
   ]
  },
  {
   "cell_type": "code",
   "execution_count": 4,
   "id": "daf95b1d-2ca9-465f-b57a-342962bdcf43",
   "metadata": {},
   "outputs": [
    {
     "data": {
      "text/plain": [
       "[10, 8, 6, 4, 2, 0]"
      ]
     },
     "execution_count": 4,
     "metadata": {},
     "output_type": "execute_result"
    }
   ],
   "source": [
    "# reversed\n",
    "a[::-2]"
   ]
  },
  {
   "cell_type": "markdown",
   "id": "ccc16ffc-9856-4c79-b35d-b80a617e1134",
   "metadata": {},
   "source": [
    "## Method 2\n",
    "\n",
    "### a[slice(start, stop, step)]"
   ]
  },
  {
   "cell_type": "code",
   "execution_count": 5,
   "id": "aee0b740-eaf7-4202-80b8-d71b83d23b88",
   "metadata": {},
   "outputs": [
    {
     "data": {
      "text/plain": [
       "[3, 5, 7, 9]"
      ]
     },
     "execution_count": 5,
     "metadata": {},
     "output_type": "execute_result"
    }
   ],
   "source": [
    "# from start index 3 to the end of the list with a step size of 2\n",
    "a[slice(3, None, 2)]"
   ]
  },
  {
   "cell_type": "code",
   "execution_count": 6,
   "id": "fbbadf83-2e78-42cb-af8c-d3b386f4b5f8",
   "metadata": {},
   "outputs": [
    {
     "data": {
      "text/plain": [
       "slice(None, None, 5)"
      ]
     },
     "execution_count": 6,
     "metadata": {},
     "output_type": "execute_result"
    }
   ],
   "source": [
    "# Python can give us the slice object if we define our own __getitem__\n",
    "# https://github.com/pandas-dev/pandas/blob/5e95673d6f958732132c305e1ed6a6d3918ae439/pandas/core/indexing.py#L90\n",
    "class _IndexSlice:\n",
    "    def __getitem__(self, arg):\n",
    "        return arg\n",
    "\n",
    "\n",
    "idx = _IndexSlice()\n",
    "idx[::5]"
   ]
  },
  {
   "cell_type": "markdown",
   "id": "6243a3b0-a1a8-43f2-8b21-afd84897ad72",
   "metadata": {},
   "source": [
    "## Method 3\n",
    "\n",
    "### list(itertools.islice(a, start, stop, step))\n",
    "What happens if you have an generator? \n"
   ]
  },
  {
   "cell_type": "code",
   "execution_count": 7,
   "id": "695dcc7d-9dc0-4c0d-a3e0-a312a2dab533",
   "metadata": {},
   "outputs": [
    {
     "data": {
      "text/plain": [
       "[3, 5, 7, 9]"
      ]
     },
     "execution_count": 7,
     "metadata": {},
     "output_type": "execute_result"
    }
   ],
   "source": [
    "import itertools\n",
    "\n",
    "# from start index 3 to the end of the list with a step size of 2\n",
    "list(itertools.islice(a, 3, None, 2))"
   ]
  },
  {
   "cell_type": "code",
   "execution_count": 8,
   "id": "9aefa371-7b32-44a2-8cd0-bc58a055f357",
   "metadata": {},
   "outputs": [],
   "source": [
    "def fibonacci_generator():\n",
    "    cur_num = 1\n",
    "    next_num = 1\n",
    "    while True:\n",
    "        yield cur_num\n",
    "        cur_num, next_num = next_num, cur_num + next_num"
   ]
  },
  {
   "cell_type": "code",
   "execution_count": 9,
   "id": "87d5041b-c83b-48ae-9ced-d0c16722507b",
   "metadata": {},
   "outputs": [
    {
     "data": {
      "text/plain": [
       "[3, 8]"
      ]
     },
     "execution_count": 9,
     "metadata": {},
     "output_type": "execute_result"
    }
   ],
   "source": [
    "list(itertools.islice(fibonacci_generator(), 3, 7, 2))"
   ]
  },
  {
   "cell_type": "code",
   "execution_count": 10,
   "id": "b07bb697-aad1-47c8-896b-e8238ebbdd65",
   "metadata": {},
   "outputs": [
    {
     "data": {
      "text/plain": [
       "[1, 1, 2, 3, 5, 8, 13, 21, 34, 55]"
      ]
     },
     "execution_count": 10,
     "metadata": {},
     "output_type": "execute_result"
    }
   ],
   "source": [
    "def take(n, it):\n",
    "    return itertools.islice(it, None, n)\n",
    "\n",
    "\n",
    "list(take(10, fibonacci_generator()))"
   ]
  },
  {
   "cell_type": "code",
   "execution_count": 11,
   "id": "524bbb0b-5b09-48d9-9169-be8062093330",
   "metadata": {},
   "outputs": [
    {
     "data": {
      "text/plain": [
       "[3, 8]"
      ]
     },
     "execution_count": 11,
     "metadata": {},
     "output_type": "execute_result"
    }
   ],
   "source": [
    "list(take(10, fibonacci_generator()))[3:7:2]"
   ]
  },
  {
   "cell_type": "code",
   "execution_count": 12,
   "id": "7db40e73-654c-4568-9d98-5dfcfd7d9893",
   "metadata": {},
   "outputs": [],
   "source": [
    "assert (\n",
    "    list(itertools.islice(fibonacci_generator(), 3, 7, 2))\n",
    "    == list(take(10, fibonacci_generator()))[3:7:2]\n",
    ")"
   ]
  },
  {
   "cell_type": "code",
   "execution_count": null,
   "id": "be5103b3-69c9-4ef8-ad2d-38422868d4e2",
   "metadata": {},
   "outputs": [],
   "source": []
  }
 ],
 "metadata": {
  "kernelspec": {
   "display_name": "Python 3 (ipykernel)",
   "language": "python",
   "name": "python3"
  },
  "language_info": {
   "codemirror_mode": {
    "name": "ipython",
    "version": 3
   },
   "file_extension": ".py",
   "mimetype": "text/x-python",
   "name": "python",
   "nbconvert_exporter": "python",
   "pygments_lexer": "ipython3",
   "version": "3.10.8"
  }
 },
 "nbformat": 4,
 "nbformat_minor": 5
}
