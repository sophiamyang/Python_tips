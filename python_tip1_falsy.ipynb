{
 "cells": [
  {
   "cell_type": "markdown",
   "id": "9f5837da",
   "metadata": {},
   "source": [
    "# Falsy\n",
    "\n",
    "Do you know that in Python the number zero, empty string, empty list, and more are evaluated as False?  We call them falsy. How do we know that they are falsy? There are two ways. One is to use the if statement. The other way is to use bool. \n"
   ]
  },
  {
   "cell_type": "code",
   "execution_count": 1,
   "id": "ea3d42ed",
   "metadata": {},
   "outputs": [],
   "source": [
    "if '':\n",
    "    print('truthy')"
   ]
  },
  {
   "cell_type": "code",
   "execution_count": 2,
   "id": "f385d617",
   "metadata": {},
   "outputs": [
    {
     "data": {
      "text/plain": [
       "False"
      ]
     },
     "execution_count": 2,
     "metadata": {},
     "output_type": "execute_result"
    }
   ],
   "source": [
    "bool('')"
   ]
  },
  {
   "cell_type": "markdown",
   "id": "cea732ee",
   "metadata": {},
   "source": [
    "Why is this important? For example, when we use Python OR with Boolean Expressions, it returns the first truthy values. "
   ]
  },
  {
   "cell_type": "code",
   "execution_count": 3,
   "id": "8e77712c",
   "metadata": {},
   "outputs": [
    {
     "data": {
      "text/plain": [
       "3"
      ]
     },
     "execution_count": 3,
     "metadata": {},
     "output_type": "execute_result"
    }
   ],
   "source": [
    "0 or 3"
   ]
  },
  {
   "cell_type": "code",
   "execution_count": 4,
   "id": "7d9bccf5",
   "metadata": {},
   "outputs": [
    {
     "data": {
      "text/plain": [
       "3"
      ]
     },
     "execution_count": 4,
     "metadata": {},
     "output_type": "execute_result"
    }
   ],
   "source": [
    "'' or 3"
   ]
  },
  {
   "cell_type": "code",
   "execution_count": 5,
   "id": "e1436014",
   "metadata": {},
   "outputs": [
    {
     "data": {
      "text/plain": [
       "3"
      ]
     },
     "execution_count": 5,
     "metadata": {},
     "output_type": "execute_result"
    }
   ],
   "source": [
    "[] or 3"
   ]
  },
  {
   "cell_type": "code",
   "execution_count": 6,
   "id": "d9b312c2",
   "metadata": {},
   "outputs": [
    {
     "data": {
      "text/plain": [
       "''"
      ]
     },
     "execution_count": 6,
     "metadata": {},
     "output_type": "execute_result"
    }
   ],
   "source": [
    "# When both are false, it returns the last one the empty string.\n",
    "0 or ''"
   ]
  }
 ],
 "metadata": {
  "kernelspec": {
   "display_name": "Python 3 (ipykernel)",
   "language": "python",
   "name": "python3"
  },
  "language_info": {
   "codemirror_mode": {
    "name": "ipython",
    "version": 3
   },
   "file_extension": ".py",
   "mimetype": "text/x-python",
   "name": "python",
   "nbconvert_exporter": "python",
   "pygments_lexer": "ipython3",
   "version": "3.9.6"
  }
 },
 "nbformat": 4,
 "nbformat_minor": 5
}
