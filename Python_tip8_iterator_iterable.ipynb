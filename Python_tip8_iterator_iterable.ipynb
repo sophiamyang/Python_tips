{
 "cells": [
  {
   "cell_type": "markdown",
   "id": "13edb5b8",
   "metadata": {},
   "source": [
    "# iterable and iterator (basic)\n",
    " "
   ]
  },
  {
   "cell_type": "markdown",
   "id": "e5359ea9",
   "metadata": {},
   "source": [
    "iterable is an \"an object capable of returning its members one at a time.\" In other words, iterable is an object that can be iterated over or looped over. For example, list, string, tuple, dict, set are all iterables. Here we have a list [1, 2, 3]. We can use a for loop to iterate over this list:"
   ]
  },
  {
   "cell_type": "code",
   "execution_count": null,
   "id": "da632294",
   "metadata": {},
   "outputs": [],
   "source": [
    "L = [1, 2, 3]"
   ]
  },
  {
   "cell_type": "code",
   "execution_count": null,
   "id": "586b51da",
   "metadata": {},
   "outputs": [],
   "source": [
    "for i in L:\n",
    "    print(i)"
   ]
  },
  {
   "cell_type": "markdown",
   "id": "94006b83",
   "metadata": {},
   "source": [
    "Any object with the iter method is an iterable. We can call the iter method on our iterable list l. You can either call this method by `L.__iter__()` or iter(l). The result of this is a iterator, let's call it iterl. "
   ]
  },
  {
   "cell_type": "code",
   "execution_count": null,
   "id": "a7e31b51",
   "metadata": {},
   "outputs": [],
   "source": [
    "L.__iter__()"
   ]
  },
  {
   "cell_type": "code",
   "execution_count": null,
   "id": "6808e676",
   "metadata": {},
   "outputs": [],
   "source": [
    "iter(L)"
   ]
  },
  {
   "cell_type": "code",
   "execution_count": null,
   "id": "187c4db4",
   "metadata": {},
   "outputs": [],
   "source": [
    "it = iter(L)"
   ]
  },
  {
   "cell_type": "markdown",
   "id": "9b22968b",
   "metadata": {},
   "source": [
    "So what is an iterator? iterator is an object representing a stream of data. We can call iterator's next() method to get successive items in the stream. "
   ]
  },
  {
   "cell_type": "code",
   "execution_count": null,
   "id": "d2690082",
   "metadata": {},
   "outputs": [],
   "source": [
    "next(it)"
   ]
  },
  {
   "cell_type": "code",
   "execution_count": null,
   "id": "a07b5330",
   "metadata": {},
   "outputs": [],
   "source": [
    "next(it)"
   ]
  },
  {
   "cell_type": "code",
   "execution_count": null,
   "id": "08330af2",
   "metadata": {},
   "outputs": [],
   "source": [
    "next(it)"
   ]
  },
  {
   "cell_type": "markdown",
   "id": "0484dcd9",
   "metadata": {},
   "source": [
    "When no more data are available and the iterator object is exhausted, a StopIteration exception is raised"
   ]
  },
  {
   "cell_type": "code",
   "execution_count": null,
   "id": "7d674eca",
   "metadata": {},
   "outputs": [],
   "source": [
    "next(it)"
   ]
  },
  {
   "cell_type": "markdown",
   "id": "51d59f02",
   "metadata": {},
   "source": [
    "An iterator also has an iter method, which means that an iterator is also an iterable. The iter method on an iterator actually returns the iterator itself. That's why iter(iterl) here is actually equal to iter1. "
   ]
  },
  {
   "cell_type": "code",
   "execution_count": null,
   "id": "b45eb68c",
   "metadata": {},
   "outputs": [],
   "source": [
    "iter(it)"
   ]
  },
  {
   "cell_type": "code",
   "execution_count": null,
   "id": "4a833887",
   "metadata": {},
   "outputs": [],
   "source": [
    "it"
   ]
  },
  {
   "cell_type": "code",
   "execution_count": null,
   "id": "5b069a84",
   "metadata": {},
   "outputs": [],
   "source": [
    "iter(it) == it"
   ]
  },
  {
   "cell_type": "markdown",
   "id": "10f872ca",
   "metadata": {},
   "source": [
    "To recap, any object with the iter method is an iterable. When we call the iter method on this iterable, the result is an iterator, which has the next method to return items in the stream of data one at a time. In the next video, we are going to see more inner works of iterators and iterables. See you in the next video. \n",
    "\n",
    "References:\n",
    "- https://docs.python.org/3/library/collections.abc.html#collections.abc.Iterable\n",
    "- https://docs.python.org/3/glossary.html#term-iterable"
   ]
  },
  {
   "cell_type": "markdown",
   "id": "0bdad112",
   "metadata": {},
   "source": [
    "# iterable and iterator (advanced)"
   ]
  },
  {
   "cell_type": "code",
   "execution_count": null,
   "id": "ec2e1abe",
   "metadata": {},
   "outputs": [],
   "source": [
    "class MyIterator:\n",
    "    def __init__(self, vals):\n",
    "        self.it = iter(vals)\n",
    "    def __next__(self):\n",
    "        return next(self.it)\n",
    "    def __iter__(self):\n",
    "        return self"
   ]
  },
  {
   "cell_type": "code",
   "execution_count": null,
   "id": "1a99f549",
   "metadata": {},
   "outputs": [],
   "source": [
    "class MyIterable1:\n",
    "    def __init__(self, vals):\n",
    "        self.vals = vals\n",
    "    def __iter__(self):\n",
    "        return MyIterator(self.vals)\n",
    "\n",
    "for x in MyIterable1([1, 2, 3]):\n",
    "    print(x)\n",
    "\n"
   ]
  },
  {
   "cell_type": "code",
   "execution_count": null,
   "id": "302b80c9",
   "metadata": {},
   "outputs": [],
   "source": [
    "class MyIterable2:\n",
    "    def __init__(self, vals):\n",
    "        self.vals = vals\n",
    "    def __iter__(self):\n",
    "        yield from self.vals\n",
    "\n",
    "\n",
    "for x in MyIterable2([1, 2, 3]):\n",
    "    print(x)"
   ]
  },
  {
   "cell_type": "code",
   "execution_count": null,
   "id": "0f165b1f",
   "metadata": {},
   "outputs": [],
   "source": [
    "iter(MyIterable2([1, 2, 3]))"
   ]
  },
  {
   "cell_type": "code",
   "execution_count": null,
   "id": "e8cb62e1",
   "metadata": {},
   "outputs": [],
   "source": [
    "class MyIterable3:\n",
    "    def __init__(self, vals):\n",
    "        self.vals = vals\n",
    "    def __iter__(self):\n",
    "        for val in self.vals:\n",
    "            yield val"
   ]
  },
  {
   "cell_type": "code",
   "execution_count": null,
   "id": "06792572",
   "metadata": {},
   "outputs": [],
   "source": [
    "for x in MyIterable3([1, 2, 3]):\n",
    "    print(x)"
   ]
  },
  {
   "cell_type": "code",
   "execution_count": null,
   "id": "dbd7c8ca",
   "metadata": {},
   "outputs": [],
   "source": [
    "iter(MyIterable1([1, 2, 3]))"
   ]
  },
  {
   "cell_type": "code",
   "execution_count": null,
   "id": "f6ca4366",
   "metadata": {},
   "outputs": [],
   "source": [
    "MyIterable2([1, 2, 3]).__iter__()"
   ]
  },
  {
   "cell_type": "code",
   "execution_count": null,
   "id": "28cdbe63",
   "metadata": {},
   "outputs": [],
   "source": [
    "MyIterable1([1, 2, 3]).__iter__()"
   ]
  },
  {
   "cell_type": "code",
   "execution_count": null,
   "id": "7f00221e",
   "metadata": {},
   "outputs": [],
   "source": []
  }
 ],
 "metadata": {
  "kernelspec": {
   "display_name": "Python 3 (ipykernel)",
   "language": "python",
   "name": "python3"
  },
  "language_info": {
   "codemirror_mode": {
    "name": "ipython",
    "version": 3
   },
   "file_extension": ".py",
   "mimetype": "text/x-python",
   "name": "python",
   "nbconvert_exporter": "python",
   "pygments_lexer": "ipython3",
   "version": "3.9.15"
  }
 },
 "nbformat": 4,
 "nbformat_minor": 5
}
