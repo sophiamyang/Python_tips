{
 "cells": [
  {
   "cell_type": "markdown",
   "id": "0e95b793",
   "metadata": {},
   "source": [
    "# Python Walrus Operator :="
   ]
  },
  {
   "cell_type": "markdown",
   "id": "50da9912",
   "metadata": {},
   "source": [
    "There are a lot of controversies about the Walrus operator since it was introduced in Python 3.8. \n",
    "\n",
    "\n",
    "### Assignment statement\n",
    "In an assignment statement, we can assign a value to a variable, and then in another cell we can see the value of the variable. \n"
   ]
  },
  {
   "cell_type": "code",
   "execution_count": 1,
   "id": "54f32e04",
   "metadata": {},
   "outputs": [],
   "source": [
    "n = 10"
   ]
  },
  {
   "cell_type": "code",
   "execution_count": 2,
   "id": "d4127c53",
   "metadata": {},
   "outputs": [
    {
     "data": {
      "text/plain": [
       "10"
      ]
     },
     "execution_count": 2,
     "metadata": {},
     "output_type": "execute_result"
    }
   ],
   "source": [
    "n"
   ]
  },
  {
   "cell_type": "markdown",
   "id": "16093d26",
   "metadata": {},
   "source": [
    "### Assignment expression\n",
    "\n",
    "With the walrus operator,, we can see that the value of this assignment expression is 10 and of course, n is assigned of the value 10 as well. "
   ]
  },
  {
   "cell_type": "code",
   "execution_count": 3,
   "id": "67496278",
   "metadata": {},
   "outputs": [
    {
     "data": {
      "text/plain": [
       "10"
      ]
     },
     "execution_count": 3,
     "metadata": {},
     "output_type": "execute_result"
    }
   ],
   "source": [
    "(n := 10)"
   ]
  },
  {
   "cell_type": "code",
   "execution_count": 4,
   "id": "07f8ffbb",
   "metadata": {},
   "outputs": [
    {
     "data": {
      "text/plain": [
       "10"
      ]
     },
     "execution_count": 4,
     "metadata": {},
     "output_type": "execute_result"
    }
   ],
   "source": [
    "n"
   ]
  },
  {
   "cell_type": "markdown",
   "id": "6fa0096f",
   "metadata": {},
   "source": [
    "### Use cases\n",
    "Imagine you have a variable n and a  if statement, we can combine them into this one line of code. "
   ]
  },
  {
   "cell_type": "code",
   "execution_count": 5,
   "id": "9771dc68",
   "metadata": {},
   "outputs": [
    {
     "name": "stdout",
     "output_type": "stream",
     "text": [
      "11\n"
     ]
    }
   ],
   "source": [
    "n = 11\n",
    "if n > 10:\n",
    "    print(n)"
   ]
  },
  {
   "cell_type": "code",
   "execution_count": 6,
   "id": "02cb71dd",
   "metadata": {},
   "outputs": [
    {
     "name": "stdout",
     "output_type": "stream",
     "text": [
      "11\n"
     ]
    }
   ],
   "source": [
    "if (n := 11) > 10:\n",
    "    print(n)"
   ]
  },
  {
   "cell_type": "markdown",
   "id": "6bc73831",
   "metadata": {},
   "source": [
    "You can even add additional conditions of n in the same line."
   ]
  },
  {
   "cell_type": "code",
   "execution_count": 7,
   "id": "6104b69b",
   "metadata": {},
   "outputs": [
    {
     "name": "stdout",
     "output_type": "stream",
     "text": [
      "11\n"
     ]
    }
   ],
   "source": [
    "if (n := 11) > 10 and n % 2 == 1:\n",
    "    print(n)"
   ]
  },
  {
   "cell_type": "markdown",
   "id": "6ed2c394",
   "metadata": {},
   "source": [
    "Another example is if we want to double the number in a list if the doubled number is greater than 2. To avoid calling i\\*2 twice, we can use a walrus operator to assign it to j and replace the first i\\*2 with j."
   ]
  },
  {
   "cell_type": "code",
   "execution_count": 8,
   "id": "1688e847",
   "metadata": {},
   "outputs": [
    {
     "data": {
      "text/plain": [
       "[4, 6, 8, 10]"
      ]
     },
     "execution_count": 8,
     "metadata": {},
     "output_type": "execute_result"
    }
   ],
   "source": [
    "num = [1, 2, 3, 4, 5]\n",
    "\n",
    "[i*2 for i in num if i*2 > 2]"
   ]
  },
  {
   "cell_type": "code",
   "execution_count": 9,
   "id": "03730cfe",
   "metadata": {},
   "outputs": [
    {
     "data": {
      "text/plain": [
       "[4, 6, 8, 10]"
      ]
     },
     "execution_count": 9,
     "metadata": {},
     "output_type": "execute_result"
    }
   ],
   "source": [
    "[j for i in num if (j := i*2) > 2]"
   ]
  }
 ],
 "metadata": {
  "kernelspec": {
   "display_name": "Python 3 (ipykernel)",
   "language": "python",
   "name": "python3"
  },
  "language_info": {
   "codemirror_mode": {
    "name": "ipython",
    "version": 3
   },
   "file_extension": ".py",
   "mimetype": "text/x-python",
   "name": "python",
   "nbconvert_exporter": "python",
   "pygments_lexer": "ipython3",
   "version": "3.9.6"
  }
 },
 "nbformat": 4,
 "nbformat_minor": 5
}
