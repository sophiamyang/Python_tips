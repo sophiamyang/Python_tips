{
 "cells": [
  {
   "cell_type": "markdown",
   "id": "0b9bd38f-58cd-4902-87f3-654b273fdde5",
   "metadata": {},
   "source": [
    "## *args and **kwargs\n",
    "\n",
    "To understand *args and **kwargs, let’s first take a look at the unpacking operators.\n",
    "\n",
    "### Unpacking operators * and **"
   ]
  },
  {
   "cell_type": "code",
   "execution_count": 1,
   "id": "c2e04616-3411-400c-bf66-3245d536104f",
   "metadata": {},
   "outputs": [],
   "source": [
    "L = [1,2,3,4]"
   ]
  },
  {
   "cell_type": "code",
   "execution_count": 2,
   "id": "25e5d277-9012-4d12-8e4a-a2acbfa75ef4",
   "metadata": {},
   "outputs": [
    {
     "name": "stdout",
     "output_type": "stream",
     "text": [
      "1 2 3 4\n"
     ]
    }
   ],
   "source": [
    "# *L unpacks every element in this list L\n",
    "print(*L)"
   ]
  },
  {
   "cell_type": "code",
   "execution_count": 3,
   "id": "0c29edbd-6903-40f8-9b70-1a14cd6f01b5",
   "metadata": {},
   "outputs": [],
   "source": [
    "first, *rest, last = L"
   ]
  },
  {
   "cell_type": "code",
   "execution_count": 4,
   "id": "2e6e7cdd-7223-4e6e-b630-85dfbc2c578d",
   "metadata": {},
   "outputs": [
    {
     "data": {
      "text/plain": [
       "(1, [2, 3], 4)"
      ]
     },
     "execution_count": 4,
     "metadata": {},
     "output_type": "execute_result"
    }
   ],
   "source": [
    "# rest takes all the elements in the middle\n",
    "first, rest, last"
   ]
  },
  {
   "cell_type": "code",
   "execution_count": 5,
   "id": "61e7f69e-8d56-413f-b324-2fcaa806add0",
   "metadata": {},
   "outputs": [
    {
     "data": {
      "text/plain": [
       "[0, 1, 2, 3, 4, 5]"
      ]
     },
     "execution_count": 5,
     "metadata": {},
     "output_type": "execute_result"
    }
   ],
   "source": [
    "# create a new list containing the elements in L\n",
    "[0, *L, 5]"
   ]
  },
  {
   "cell_type": "code",
   "execution_count": 6,
   "id": "6bcf28b8-2637-4689-a52f-8cd22b484349",
   "metadata": {},
   "outputs": [],
   "source": [
    "d = {'a': 1, 'b': 2}"
   ]
  },
  {
   "cell_type": "code",
   "execution_count": 7,
   "id": "5b3058c7-96ab-4f67-a5af-a9e0f47229fa",
   "metadata": {},
   "outputs": [
    {
     "data": {
      "text/plain": [
       "{'a': 1, 'b': 2}"
      ]
     },
     "execution_count": 7,
     "metadata": {},
     "output_type": "execute_result"
    }
   ],
   "source": [
    "# ** works similarly but with dictionaries\n",
    "dict(**d)"
   ]
  },
  {
   "cell_type": "code",
   "execution_count": 8,
   "id": "112ed6db-c6fa-403c-a0f6-6841a2d652a4",
   "metadata": {},
   "outputs": [
    {
     "data": {
      "text/plain": [
       "{'a': 1, 'b': 2, 'c': 3}"
      ]
     },
     "execution_count": 8,
     "metadata": {},
     "output_type": "execute_result"
    }
   ],
   "source": [
    "# create a new dictionary containing everything in d\n",
    "{**d, 'c': 3}"
   ]
  },
  {
   "cell_type": "markdown",
   "id": "9495a83a-0b89-421e-bc5a-7a72fceb7c89",
   "metadata": {},
   "source": [
    "### *args and **kwargs\n",
    "\n",
    "*args and **kwargs allow us to unpack many arguments or keyword arguments into a function."
   ]
  },
  {
   "cell_type": "code",
   "execution_count": 9,
   "id": "24154be8-24da-4c24-a86f-bea507784c3c",
   "metadata": {},
   "outputs": [],
   "source": [
    "def foo(*args, **kwargs):\n",
    "    print('args: ', args)\n",
    "    print('kwargs: ', kwargs)"
   ]
  },
  {
   "cell_type": "code",
   "execution_count": 10,
   "id": "4da0fd23-a6fa-40af-89ad-4ca9bc3cd785",
   "metadata": {},
   "outputs": [
    {
     "name": "stdout",
     "output_type": "stream",
     "text": [
      "args:  (1, 2, 3, 4)\n",
      "kwargs:  {'a': 1, 'b': 2}\n"
     ]
    }
   ],
   "source": [
    "foo(*L, **d)"
   ]
  },
  {
   "cell_type": "code",
   "execution_count": 11,
   "id": "7d6c363c-220c-4a72-9836-3fe201e0fed1",
   "metadata": {},
   "outputs": [
    {
     "name": "stdout",
     "output_type": "stream",
     "text": [
      "args:  (1, 2, 3)\n",
      "kwargs:  {'a': 1, 'b': 2}\n"
     ]
    }
   ],
   "source": [
    "foo(1, 2, 3, a=1, b=2)"
   ]
  },
  {
   "cell_type": "markdown",
   "id": "6471ed52-9b90-4d86-a47d-6715ba7f2fe9",
   "metadata": {},
   "source": [
    "We can add all values of arguments using this add_args function, and we can get the sum of all elements."
   ]
  },
  {
   "cell_type": "code",
   "execution_count": 12,
   "id": "356806b6-8f08-49a8-a845-a5546497361a",
   "metadata": {},
   "outputs": [],
   "source": [
    "def add_args(*args):\n",
    "    print(args)\n",
    "    return sum(args)"
   ]
  },
  {
   "cell_type": "code",
   "execution_count": 13,
   "id": "036014be-855a-4095-9dbc-f63667618abd",
   "metadata": {},
   "outputs": [
    {
     "name": "stdout",
     "output_type": "stream",
     "text": [
      "(1, 2, 3, 4)\n"
     ]
    },
    {
     "data": {
      "text/plain": [
       "10"
      ]
     },
     "execution_count": 13,
     "metadata": {},
     "output_type": "execute_result"
    }
   ],
   "source": [
    "add_args(*L)"
   ]
  },
  {
   "cell_type": "code",
   "execution_count": 14,
   "id": "8c8b345d-e67b-4f4c-8c53-c6140d239582",
   "metadata": {},
   "outputs": [
    {
     "name": "stdout",
     "output_type": "stream",
     "text": [
      "(1, 2, 3, 4, 5)\n"
     ]
    },
    {
     "data": {
      "text/plain": [
       "15"
      ]
     },
     "execution_count": 14,
     "metadata": {},
     "output_type": "execute_result"
    }
   ],
   "source": [
    "add_args(1,2,3,4,5)"
   ]
  },
  {
   "cell_type": "markdown",
   "id": "69a1dad3-fd1b-4678-952e-1ba7495f35bf",
   "metadata": {},
   "source": [
    "Similarly, we can add all the values of the kwargs in the add_kwargs function and get the sum."
   ]
  },
  {
   "cell_type": "code",
   "execution_count": 15,
   "id": "e6c62dab-3fdd-48b2-b7d0-2ec3520e6d47",
   "metadata": {},
   "outputs": [],
   "source": [
    "def add_kwargs(**kwargs):\n",
    "    print(kwargs)\n",
    "    return sum(kwargs.values())"
   ]
  },
  {
   "cell_type": "code",
   "execution_count": 16,
   "id": "860b1cdf-d5de-4156-b178-e711985aaafb",
   "metadata": {},
   "outputs": [
    {
     "name": "stdout",
     "output_type": "stream",
     "text": [
      "{'a': 1, 'b': 2}\n"
     ]
    },
    {
     "data": {
      "text/plain": [
       "3"
      ]
     },
     "execution_count": 16,
     "metadata": {},
     "output_type": "execute_result"
    }
   ],
   "source": [
    "add_kwargs(**d)"
   ]
  },
  {
   "cell_type": "code",
   "execution_count": 17,
   "id": "c80b0a7f-63af-44e1-8938-31f22419aac8",
   "metadata": {},
   "outputs": [
    {
     "name": "stdout",
     "output_type": "stream",
     "text": [
      "{'a': 1, 'b': 2}\n"
     ]
    },
    {
     "data": {
      "text/plain": [
       "3"
      ]
     },
     "execution_count": 17,
     "metadata": {},
     "output_type": "execute_result"
    }
   ],
   "source": [
    "add_kwargs(a=1, b=2)"
   ]
  },
  {
   "cell_type": "markdown",
   "id": "98d8d7f1-a869-4b13-820c-b12abf0db2ce",
   "metadata": {},
   "source": [
    "### Useful in a decorator"
   ]
  },
  {
   "cell_type": "code",
   "execution_count": 18,
   "id": "51ccfb26-153d-4e8e-bda9-3fbe1fcbf8f2",
   "metadata": {},
   "outputs": [],
   "source": [
    "def timecall(f):\n",
    "    def inner(*args, **kwargs):\n",
    "        start = time.time()\n",
    "        rv = f(*args, **kwargs)\n",
    "        stop = time.time()\n",
    "        print('time:', stop - start)\n",
    "        return rv\n",
    "    return inner"
   ]
  },
  {
   "cell_type": "code",
   "execution_count": 19,
   "id": "7536dda5-48e7-4b9b-a675-6422d32ae780",
   "metadata": {},
   "outputs": [],
   "source": [
    "import time"
   ]
  },
  {
   "cell_type": "code",
   "execution_count": 20,
   "id": "7a0d29f1-bcac-47bd-acd3-2749095eca1e",
   "metadata": {},
   "outputs": [],
   "source": [
    "@timecall\n",
    "def sleep(n):\n",
    "    time.sleep(n)"
   ]
  },
  {
   "cell_type": "code",
   "execution_count": 21,
   "id": "e856e337-c4b1-4ef3-977f-7f0875ad6e98",
   "metadata": {},
   "outputs": [
    {
     "name": "stdout",
     "output_type": "stream",
     "text": [
      "time: 1.0007960796356201\n"
     ]
    }
   ],
   "source": [
    "sleep(1)"
   ]
  },
  {
   "cell_type": "code",
   "execution_count": 22,
   "id": "231980f3-aa56-4593-ad04-3fd83f68bf54",
   "metadata": {},
   "outputs": [
    {
     "data": {
      "text/plain": [
       "'inner'"
      ]
     },
     "execution_count": 22,
     "metadata": {},
     "output_type": "execute_result"
    }
   ],
   "source": [
    "sleep.__name__"
   ]
  }
 ],
 "metadata": {
  "kernelspec": {
   "display_name": "Python 3 (ipykernel)",
   "language": "python",
   "name": "python3"
  },
  "language_info": {
   "codemirror_mode": {
    "name": "ipython",
    "version": 3
   },
   "file_extension": ".py",
   "mimetype": "text/x-python",
   "name": "python",
   "nbconvert_exporter": "python",
   "pygments_lexer": "ipython3",
   "version": "3.10.8"
  }
 },
 "nbformat": 4,
 "nbformat_minor": 5
}
